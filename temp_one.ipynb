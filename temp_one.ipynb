{
 "cells": [
  {
   "cell_type": "code",
   "execution_count": 1,
   "metadata": {},
   "outputs": [],
   "source": [
    "from reportlab.pdfgen import canvas\n",
    "from reportlab.lib.pagesizes import A5,A4,A6,portrait\n",
    "from reportlab.lib.units import inch\n",
    "from reportlab.lib import colors\n",
    "from reportlab.lib import fontfinder,fonts\n",
    "from reportlab.pdfbase.ttfonts import TTFont\n",
    "from reportlab.pdfbase import pdfmetrics"
   ]
  },
  {
   "cell_type": "code",
   "execution_count": 10,
   "metadata": {},
   "outputs": [],
   "source": [
    "filename = \"small.pdf\"\n",
    "c = canvas.Canvas(filename,pagesize=portrait(A5))\n",
    "page_width, page_height = A5\n",
    "c.rect(40,20,page_width - 2 * 40, page_height - 2 * 40)\n",
    "c.setDash(6,3)\n",
    "font_name = \"Times-BoldItalic\"\n",
    "c.setFont(font_name,5)\n",
    "c.setDash(6,3)\n",
    "c.setFont(font_name,5)\n",
    "for x in range(0,int(page_width),10):\n",
    "    if x % 20 == 0:\n",
    "        c.line(x,page_height,x,0)\n",
    "        c.drawString(x+2,page_height-30,str(x))\n",
    "for x in range(0,int(page_height),10):\n",
    "    if x % 20 == 0:\n",
    "        c.line(0,x,page_width,x)\n",
    "        c.drawString(30,x+2,str(x))\n",
    "patient_name = \"first name is the last name to first name\"\n",
    "patient_serial_no = 1\n",
    "patient_age = 12\n",
    "patient_age_group = \"Y\"\n",
    "patient_gender = \"M\"\n",
    "patient_specimen = \"Blood\"\n",
    "collection_date = \"2024-11-12 00:00:00\"\n",
    "doctor_name = \"M. RAMA KRISHNA GARU MBBS DCH\"\n",
    "patient_details_space = 18\n",
    "c.setFont(\"Times-BoldItalic\",12)\n",
    "c.drawString(42,page_height-75,f\"Pt. Name : {patient_name.upper()}\")\n",
    "c.drawString(42,page_height-(75 + patient_details_space),f\"Gender : {patient_gender}\")         \n",
    "c.drawString(325,page_height-(75 + patient_details_space),f\"Age: {patient_age} {patient_age_group}\")   # string widht\n",
    "c.drawString(42,page_height-(75 + 2*patient_details_space),f\"Ref.Dr.By. : {doctor_name}\")                                                # 99 + 24\n",
    "c.drawString(42,page_height-(75 + 3*patient_details_space),f\"Serial No: 000{patient_serial_no}\")\n",
    "c.drawString(188,page_height-(75 + 3*patient_details_space),f\"Collection Time: {collection_date}\")      # string width\n",
    "c.drawString(42,page_height-(75 + 4*patient_details_space),f\"Specimen: {patient_specimen}\")\n",
    "c.save()"
   ]
  },
  {
   "cell_type": "code",
   "execution_count": 229,
   "metadata": {},
   "outputs": [
    {
     "data": {
      "text/plain": [
       "252"
      ]
     },
     "execution_count": 229,
     "metadata": {},
     "output_type": "execute_result"
    }
   ],
   "source": [
    "21 * 12"
   ]
  },
  {
   "cell_type": "code",
   "execution_count": 228,
   "metadata": {},
   "outputs": [
    {
     "data": {
      "text/plain": [
       "time.struct_time(tm_year=2024, tm_mon=11, tm_mday=20, tm_hour=12, tm_min=15, tm_sec=45, tm_wday=2, tm_yday=325, tm_isdst=0)"
      ]
     },
     "execution_count": 228,
     "metadata": {},
     "output_type": "execute_result"
    }
   ],
   "source": [
    "import time\n",
    "time.localtime()"
   ]
  },
  {
   "cell_type": "code",
   "execution_count": 3,
   "metadata": {},
   "outputs": [
    {
     "data": {
      "text/plain": [
       "(419.52755905511816, 595.2755905511812)"
      ]
     },
     "execution_count": 3,
     "metadata": {},
     "output_type": "execute_result"
    }
   ],
   "source": [
    "A5"
   ]
  },
  {
   "cell_type": "code",
   "execution_count": 4,
   "metadata": {},
   "outputs": [
    {
     "data": {
      "text/plain": [
       "(595.2755905511812, 841.8897637795277)"
      ]
     },
     "execution_count": 4,
     "metadata": {},
     "output_type": "execute_result"
    }
   ],
   "source": [
    "A4"
   ]
  },
  {
   "cell_type": "code",
   "execution_count": 6,
   "metadata": {},
   "outputs": [],
   "source": [
    "pdfmetrics.registerFont(TTFont(\"cbs\",\"assets/schlbkbi.ttf\"))"
   ]
  },
  {
   "cell_type": "code",
   "execution_count": 7,
   "metadata": {},
   "outputs": [
    {
     "data": {
      "text/plain": [
       "['Helvetica', 'Symbol', 'Times-BoldItalic', 'ZapfDingbats', 'cbs']"
      ]
     },
     "execution_count": 7,
     "metadata": {},
     "output_type": "execute_result"
    }
   ],
   "source": [
    "pdfmetrics.getRegisteredFontNames()"
   ]
  },
  {
   "cell_type": "code",
   "execution_count": 7,
   "metadata": {},
   "outputs": [],
   "source": [
    "d = canvas.Canvas(\"big.pdf\",pagesize=portrait(A4))\n",
    "page_width, page_height = A4\n",
    "patient_name = \"first name is the last name to first name\"\n",
    "d.setFont(font_name,14)\n",
    "d.drawString(43,page_height - 104,f\"Pt. Name: {patient_name.upper()}\")\n",
    "d.rect(43,92,page_width - 2 * 43, page_height - 2 * 92)\n",
    "d.setDash(6,3)\n",
    "d.setFont(font_name,5)\n",
    "for x in range(0,int(page_width),10):\n",
    "    if x % 20 == 0:\n",
    "        d.line(x,page_height,x,0)\n",
    "        d.drawString(x+2,page_height-30,str(x))\n",
    "for x in range(0,int(page_height),10):\n",
    "    if x % 20 == 0:\n",
    "        d.line(0,x,page_width,x)\n",
    "        d.drawString(30,x+2,str(x))\n",
    "d.save()"
   ]
  },
  {
   "cell_type": "code",
   "execution_count": 1,
   "metadata": {},
   "outputs": [],
   "source": [
    "import numpy as np "
   ]
  },
  {
   "cell_type": "code",
   "execution_count": 37,
   "metadata": {},
   "outputs": [],
   "source": [
    "import json"
   ]
  },
  {
   "cell_type": "code",
   "execution_count": null,
   "metadata": {},
   "outputs": [],
   "source": []
  },
  {
   "cell_type": "code",
   "execution_count": null,
   "metadata": {},
   "outputs": [],
   "source": [
    "json.dump()"
   ]
  }
 ],
 "metadata": {
  "kernelspec": {
   "display_name": "Python 3",
   "language": "python",
   "name": "python3"
  },
  "language_info": {
   "codemirror_mode": {
    "name": "ipython",
    "version": 3
   },
   "file_extension": ".py",
   "mimetype": "text/x-python",
   "name": "python",
   "nbconvert_exporter": "python",
   "pygments_lexer": "ipython3",
   "version": "3.12.3"
  }
 },
 "nbformat": 4,
 "nbformat_minor": 2
}
