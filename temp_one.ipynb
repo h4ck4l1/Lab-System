{
 "cells": [
  {
   "cell_type": "code",
   "execution_count": 1,
   "metadata": {},
   "outputs": [],
   "source": [
    "from reportlab.pdfgen import canvas\n",
    "from reportlab.lib.pagesizes import A5,A4,A6,portrait\n",
    "from reportlab.lib.units import inch\n",
    "from reportlab.lib import colors\n",
    "from reportlab.lib import fontfinder,fonts\n",
    "from reportlab.pdfbase.ttfonts import TTFont\n",
    "from reportlab.pdfbase import pdfmetrics"
   ]
  },
  {
   "cell_type": "code",
   "execution_count": 7,
   "metadata": {},
   "outputs": [
    {
     "data": {
      "text/plain": [
       "769.9333737129014"
      ]
     },
     "execution_count": 7,
     "metadata": {},
     "output_type": "execute_result"
    }
   ],
   "source": [
    "# A4[1] - (A4[1]/11.7)\n",
    "# filename = \"small.pdf\"\n",
    "# c = canvas.Canvas(filename,pagesize=portrait(A5))\n",
    "# page_width, page_height = A5\n",
    "# c.rect(40,20,page_width - 2 * 40, page_height - 2 * 40)\n",
    "# c.setDash(6,3)\n",
    "# font_name = \"Times-BoldItalic\"\n",
    "# c.setFont(font_name,5)\n",
    "# c.setDash(6,3)\n",
    "# c.setFont(font_name,5)\n",
    "# for x in range(0,int(page_width),10):\n",
    "#     if x % 20 == 0:\n",
    "#         c.line(x,page_height,x,0)\n",
    "#         c.drawString(x+2,page_height-30,str(x))\n",
    "# for x in range(0,int(page_height),10):\n",
    "#     if x % 20 == 0:\n",
    "#         c.line(0,x,page_width,x)\n",
    "#         c.drawString(30,x+2,str(x))\n",
    "# patient_name = \"first name is the last name to first name\"\n",
    "# patient_serial_no = 1\n",
    "# patient_age = 12\n",
    "# patient_age_group = \"Y\"\n",
    "# patient_gender = \"M\"\n",
    "# patient_specimen = \"Blood\"\n",
    "# collection_date = \"2024-11-12 00:00:00\"\n",
    "# doctor_name = \"M. RAMA KRISHNA GARU MBBS DCH\"\n",
    "# patient_details_space = 18\n",
    "# c.setFont(\"Times-BoldItalic\",12)\n",
    "# c.drawString(42,page_height-75,f\"Pt. Name : {patient_name.upper()}\")\n",
    "# c.drawString(42,page_height-(75 + patient_details_space),f\"Gender : {patient_gender}\")         \n",
    "# c.drawString(325,page_height-(75 + patient_details_space),f\"Age: {patient_age} {patient_age_group}\")   # string widht\n",
    "# c.drawString(42,page_height-(75 + 2*patient_details_space),f\"Ref.Dr.By. : {doctor_name}\")                                                # 99 + 24\n",
    "# c.drawString(42,page_height-(75 + 3*patient_details_space),f\"Serial No: 000{patient_serial_no}\")\n",
    "# c.drawString(188,page_height-(75 + 3*patient_details_space),f\"Collection Time: {collection_date}\")      # string width\n",
    "# c.drawString(42,page_height-(75 + 4*patient_details_space),f\"Specimen: {patient_specimen}\")\n",
    "# c.save()\n",
    "# 21 * 12\n",
    "# import time\n",
    "# pdfmetrics.registerFont(TTFont(\"cbs\",\"assets/schlbkbi.ttf\"))"
   ]
  },
  {
   "cell_type": "code",
   "execution_count": null,
   "metadata": {},
   "outputs": [],
   "source": [
    "# d.rect(43,92,page_width - 2 * 43, page_height - 2 * 92)\n",
    "# d.setDash(6,3)\n",
    "# d.setFont(font_name,5)\n",
    "# for x in range(0,int(page_width),10):\n",
    "#     if x % 20 == 0:\n",
    "#         d.line(x,page_height,x,0)\n",
    "#         d.drawString(x+2,page_height-30,str(x))\n",
    "# for x in range(0,int(page_height),10):\n",
    "#     if x % 20 == 0:\n",
    "#         d.line(0,x,page_width,x)\n",
    "#         d.drawString(30,x+2,str(x))"
   ]
  },
  {
   "cell_type": "code",
   "execution_count": 120,
   "metadata": {},
   "outputs": [],
   "source": [
    "# d = canvas.Canvas(\"big.pdf\",pagesize=portrait(A4))\n",
    "# page_width, page_height = A4\n",
    "# patient_name = \"first name is the last name to first name\"\n",
    "# font_name = \"cbs\"\n",
    "# d.setFont(font_name,14)\n",
    "# input_date = \"23/11/24\"\n",
    "# pt_name = \"p. rajesh\".upper()\n",
    "# pt_height = np.random.randint(low=160,high=176,size=1).item()\n",
    "# pt_weight = np.random.randint(low=60,high=86,size=1).item()\n",
    "# pt_name = pt_name.upper()\n",
    "# pt_age = 21\n",
    "# pt_blood_group = \"B POSITIVE\"\n",
    "\n",
    "# # details \n",
    "# font_size = 14\n",
    "# details_space = 25\n",
    "# left_extreme = 540\n",
    "# starting_point = 62\n",
    "# top_height = 735\n",
    "# d.drawString(starting_point,top_height,f\"Pt. Name: Mr. {pt_name}\")\n",
    "# d.drawString(starting_point,top_height-details_space,f\"Gender:   Male\")\n",
    "# age_string = f\"Age :   {pt_age} Y\"\n",
    "# d.drawString(left_extreme - d.stringWidth(age_string,font_name,font_size),top_height-details_space,age_string)\n",
    "# d.drawString(starting_point,top_height - 2 * details_space,\"Ref.Dr.By:  Medical officer, APPMILLS\")\n",
    "# d.drawString(starting_point,top_height - 3 * details_space,\"Specimen: Blood\")\n",
    "# date_string = f\"Date:   {input_date.replace(\"/\",\"-\")}\"\n",
    "# d.drawString(left_extreme - d.stringWidth(date_string,font_name,font_size), top_height - 3 * details_space,date_string)\n",
    "# d.setDash()\n",
    "# d.line(43,top_height - 4 * details_space,page_width-43,top_height - 4 * details_space)\n",
    "# d.setFont(font_name,12)\n",
    "# d.drawString(43,top_height - 4.5 * details_space,\"Test\")\n",
    "# d.drawString(240,top_height - 4.5 * details_space,\"Value\")\n",
    "# reference_string = \"Reference Range\"\n",
    "# d.drawString(left_extreme - d.stringWidth(reference_string,font_name,12),top_height - 4.5 * details_space,reference_string)\n",
    "# d.line(43,top_height - 4.8 * details_space,page_width - 43, top_height - 4.8 * details_space)\n",
    "\n",
    "# # tests\n",
    "# value_point = 240\n",
    "# top_height -= (6 * details_space)\n",
    "# details_space = 25\n",
    "# d.setFont(font_name,font_size)\n",
    "\n",
    "# def calc_width(d:canvas.Canvas,text_string:str):\n",
    "#     return left_extreme - d.stringWidth(text_string,font_name,font_size)\n",
    "\n",
    "# def draw_section(name_string,value_string,limits_string=None):\n",
    "#     global top_height,d\n",
    "#     d.drawString(starting_point,top_height,name_string)\n",
    "#     d.drawString(value_point,top_height,value_string)\n",
    "#     if limits_string:\n",
    "#         d.drawString(calc_width(d,limits_string),top_height,limits_string)\n",
    "#     top_height -= details_space\n",
    "\n",
    "# draw_section(\n",
    "#     \"Heamoglobin\",\n",
    "#     f\":   {np.random.uniform(low=12.0,high=14.0,size=1).item():.1f}\",\n",
    "#     \"( 11. 0 - 16.8 Grams %)\"\n",
    "# )\n",
    "\n",
    "# draw_section(\n",
    "#     \"Total WBC Count\",\n",
    "#     f\":  {str(np.random.uniform(low=7.0,high=9.0,size=1).item().__round__(1)).replace(\".\",\",\")}00\",\n",
    "#     \"( 5,000 - 10,000 Cells/cumm )\"\n",
    "# )\n",
    "\n",
    "# draw_section(\n",
    "#     \"E.S.R\",\n",
    "#     \":  05\",\n",
    "#     \"( 02 - 10mm / 1 hour )\"\n",
    "# )\n",
    "\n",
    "\n",
    "# dc_string = \"Differential Count\"\n",
    "# d.drawString(starting_point,top_height,dc_string)\n",
    "# d.line(starting_point,top_height-6,starting_point+135,top_height - 6)\n",
    "# d.drawString(starting_point + 100,top_height - 35,\"Polymorphs\")\n",
    "# d.drawString(starting_point + 100,top_height - 60,\"Lymphocytes\")\n",
    "# d.drawString(starting_point + 100,top_height - 85,\"Esinophils\")\n",
    "# polymo = int(np.random.uniform(low=56,high=63,size=1).item())\n",
    "# if polymo <= 60:\n",
    "#     l_limit = 37\n",
    "#     h_limit = 39\n",
    "# else:\n",
    "#     l_limit = 30\n",
    "#     h_limit = 35\n",
    "# lympho = int(np.random.uniform(low=l_limit,high=h_limit,size=1).item())\n",
    "# mono = 100 - (polymo + lympho)\n",
    "# d.drawString(starting_point + 280,top_height - 35,f\":  {polymo}%\")\n",
    "# d.drawString(starting_point + 280,top_height - 60,f\":  {lympho}%\")\n",
    "# d.drawString(starting_point + 280,top_height - 85,f\":  {mono if mono >= 10 else \"0\"+str(mono)}%\")\n",
    "# top_height -= 110\n",
    "\n",
    "# value_point += 50\n",
    "\n",
    "# draw_section(\n",
    "#     \"blood group\".upper(),\n",
    "#     f\":  * {pt_blood_group.replace(\" \",\" * \")}\"\n",
    "# )\n",
    "\n",
    "# draw_section(\n",
    "#     \"V.D.R.L\",\n",
    "#     f\":  non-reactive\".upper()\n",
    "# )\n",
    "\n",
    "# draw_section(\n",
    "#     \"HBsAg\",\n",
    "#     f\":  non-reactive\".upper()\n",
    "# )\n",
    "\n",
    "# draw_section(\n",
    "#     \"HIV I & II Antibodies Test\",\n",
    "#     f\":  non-reactive\".upper()\n",
    "# )\n",
    "\n",
    "# draw_section(\n",
    "#     \"HCV I & II Antibodies Test\",\n",
    "#     f\":  non-reactive\".upper()\n",
    "# )\n",
    "\n",
    "# draw_section(\n",
    "#     \"Blood Sugar(Random)\",\n",
    "#     f\":  {int(np.random.uniform(low=85,high=100,size=1).item())} mg/dl\",\n",
    "#     \"( 70 - 140 mg/dl )\"\n",
    "# )\n",
    "\n",
    "# d.rect(starting_point-2,top_height-18,starting_point+110,18)\n",
    "# d.drawString(starting_point,top_height-14,\"urine examination\".upper())\n",
    "# top_height -= 40\n",
    "# draw_section(\n",
    "#     \"Sugar\",\n",
    "#     \":  NIL\"\n",
    "# )\n",
    "# draw_section(\n",
    "#     \"Albumin\",\n",
    "#     \": NIL\"\n",
    "# )\n",
    "# draw_section(\n",
    "#     \"Micro\",\n",
    "#     \":  0-1 Pus Cells Present.\"\n",
    "# )\n",
    "# d.drawString(value_point,top_height,\"  No RBC, No Casts, No Cystals.\")\n",
    "# top_height -= details_space\n",
    "# d.drawString(value_point,top_height,\"  1-2 Epitheleal Cells Present.\")\n",
    "# d.save()"
   ]
  },
  {
   "cell_type": "code",
   "execution_count": 6,
   "metadata": {},
   "outputs": [],
   "source": [
    "import os,sys"
   ]
  },
  {
   "cell_type": "code",
   "execution_count": 7,
   "metadata": {},
   "outputs": [
    {
     "data": {
      "text/plain": [
       "'first_name.pdf'"
      ]
     },
     "execution_count": 7,
     "metadata": {},
     "output_type": "execute_result"
    }
   ],
   "source": [
    "os.path.basename(\"assets/2024/11/27/first_name.pdf\")"
   ]
  },
  {
   "cell_type": "code",
   "execution_count": 13,
   "metadata": {},
   "outputs": [
    {
     "data": {
      "text/plain": [
       "True"
      ]
     },
     "execution_count": 13,
     "metadata": {},
     "output_type": "execute_result"
    }
   ],
   "source": [
    "os.path.exists(\"assets/2024/11/27/\")"
   ]
  },
  {
   "cell_type": "code",
   "execution_count": 17,
   "metadata": {},
   "outputs": [
    {
     "data": {
      "text/plain": [
       "'2024/11/28'"
      ]
     },
     "execution_count": 17,
     "metadata": {},
     "output_type": "execute_result"
    }
   ],
   "source": [
    "from datetime import date\n",
    "date.today().strftime(\"%Y/%m/%d\")"
   ]
  },
  {
   "cell_type": "code",
   "execution_count": 18,
   "metadata": {},
   "outputs": [],
   "source": [
    "from glob import glob"
   ]
  },
  {
   "cell_type": "code",
   "execution_count": 20,
   "metadata": {},
   "outputs": [
    {
     "data": {
      "text/plain": [
       "'2024/11/28/'"
      ]
     },
     "execution_count": 20,
     "metadata": {},
     "output_type": "execute_result"
    }
   ],
   "source": [
    "date.today().strftime(\"%Y/%m/%d/\")"
   ]
  },
  {
   "cell_type": "code",
   "execution_count": 1,
   "metadata": {},
   "outputs": [],
   "source": [
    "from reportlab.lib.pagesizes import A4,A5"
   ]
  },
  {
   "cell_type": "code",
   "execution_count": 3,
   "metadata": {},
   "outputs": [
    {
     "data": {
      "text/plain": [
       "72.01794386480134"
      ]
     },
     "execution_count": 3,
     "metadata": {},
     "output_type": "execute_result"
    }
   ],
   "source": [
    "A4[1]/11.69"
   ]
  },
  {
   "cell_type": "code",
   "execution_count": 1,
   "metadata": {},
   "outputs": [],
   "source": [
    "import time "
   ]
  },
  {
   "cell_type": "code",
   "execution_count": 2,
   "metadata": {},
   "outputs": [
    {
     "data": {
      "text/plain": [
       "time.struct_time(tm_year=2024, tm_mon=11, tm_mday=28, tm_hour=13, tm_min=29, tm_sec=31, tm_wday=3, tm_yday=333, tm_isdst=0)"
      ]
     },
     "execution_count": 2,
     "metadata": {},
     "output_type": "execute_result"
    }
   ],
   "source": [
    "time.localtime()"
   ]
  },
  {
   "cell_type": "code",
   "execution_count": 3,
   "metadata": {},
   "outputs": [
    {
     "ename": "TypeError",
     "evalue": "f() missing 1 required keyword-only argument: 'c'",
     "output_type": "error",
     "traceback": [
      "\u001b[1;31m---------------------------------------------------------------------------\u001b[0m",
      "\u001b[1;31mTypeError\u001b[0m                                 Traceback (most recent call last)",
      "Cell \u001b[1;32mIn[3], line 7\u001b[0m\n\u001b[0;32m      3\u001b[0m     \u001b[38;5;28mprint\u001b[39m(b)\n\u001b[0;32m      4\u001b[0m     \u001b[38;5;28mprint\u001b[39m(c)\n\u001b[1;32m----> 7\u001b[0m f(\u001b[38;5;241m1\u001b[39m,[\u001b[38;5;241m2\u001b[39m,\u001b[38;5;241m3\u001b[39m,\u001b[38;5;241m4\u001b[39m],\u001b[38;5;241m5\u001b[39m)\n",
      "\u001b[1;31mTypeError\u001b[0m: f() missing 1 required keyword-only argument: 'c'"
     ]
    }
   ],
   "source": []
  }
 ],
 "metadata": {
  "kernelspec": {
   "display_name": "Python 3",
   "language": "python",
   "name": "python3"
  },
  "language_info": {
   "codemirror_mode": {
    "name": "ipython",
    "version": 3
   },
   "file_extension": ".py",
   "mimetype": "text/x-python",
   "name": "python",
   "nbconvert_exporter": "python",
   "pygments_lexer": "ipython3",
   "version": "3.12.3"
  }
 },
 "nbformat": 4,
 "nbformat_minor": 2
}
